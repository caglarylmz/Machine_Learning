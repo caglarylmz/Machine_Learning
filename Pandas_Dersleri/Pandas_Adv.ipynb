{
 "cells": [
  {
   "cell_type": "code",
   "execution_count": 1,
   "metadata": {},
   "outputs": [],
   "source": [
    "import pandas as pd\n",
    "import numpy as np"
   ]
  },
  {
   "cell_type": "markdown",
   "metadata": {},
   "source": [
    "### Satırları Filtrelemek\n",
    "__drop_duplicates(subset(\"_SutunAdı_\")__\n",
    "\n",
    "\"A\":[1,2,2,3,4,5,5,5,6,7,7,] Elimizde böyle bir sütun var. Amacımız bu sütunda aynı elemanı içeren satırları silmek. Yani her bir elemandan 1 tane kalsın."
   ]
  },
  {
   "cell_type": "code",
   "execution_count": 3,
   "metadata": {},
   "outputs": [
    {
     "data": {
      "text/html": [
       "<div>\n",
       "<style scoped>\n",
       "    .dataframe tbody tr th:only-of-type {\n",
       "        vertical-align: middle;\n",
       "    }\n",
       "\n",
       "    .dataframe tbody tr th {\n",
       "        vertical-align: top;\n",
       "    }\n",
       "\n",
       "    .dataframe thead th {\n",
       "        text-align: right;\n",
       "    }\n",
       "</style>\n",
       "<table border=\"1\" class=\"dataframe\">\n",
       "  <thead>\n",
       "    <tr style=\"text-align: right;\">\n",
       "      <th></th>\n",
       "      <th>A</th>\n",
       "    </tr>\n",
       "  </thead>\n",
       "  <tbody>\n",
       "    <tr>\n",
       "      <th>0</th>\n",
       "      <td>1</td>\n",
       "    </tr>\n",
       "    <tr>\n",
       "      <th>1</th>\n",
       "      <td>2</td>\n",
       "    </tr>\n",
       "    <tr>\n",
       "      <th>3</th>\n",
       "      <td>3</td>\n",
       "    </tr>\n",
       "    <tr>\n",
       "      <th>4</th>\n",
       "      <td>4</td>\n",
       "    </tr>\n",
       "    <tr>\n",
       "      <th>5</th>\n",
       "      <td>5</td>\n",
       "    </tr>\n",
       "    <tr>\n",
       "      <th>8</th>\n",
       "      <td>6</td>\n",
       "    </tr>\n",
       "    <tr>\n",
       "      <th>9</th>\n",
       "      <td>7</td>\n",
       "    </tr>\n",
       "  </tbody>\n",
       "</table>\n",
       "</div>"
      ],
      "text/plain": [
       "   A\n",
       "0  1\n",
       "1  2\n",
       "3  3\n",
       "4  4\n",
       "5  5\n",
       "8  6\n",
       "9  7"
      ]
     },
     "execution_count": 3,
     "metadata": {},
     "output_type": "execute_result"
    }
   ],
   "source": [
    "df=pd.DataFrame({\"A\":[1,2,2,3,4,5,5,5,6,7,7,]})\n",
    "df.drop_duplicates(subset=\"A\")"
   ]
  },
  {
   "cell_type": "markdown",
   "metadata": {},
   "source": [
    "### Satır öğeleriyle işlem yapmak\n",
    "\n",
    "Elimizde sayısal değerlerden oluşan bir dataframe olsun(biz burada rastgele oluluşturalım). Satırdaki her öğeden satır ortalamasını çıkaralım"
   ]
  },
  {
   "cell_type": "code",
   "execution_count": 9,
   "metadata": {},
   "outputs": [
    {
     "name": "stdout",
     "output_type": "stream",
     "text": [
      "          0         1         2\n",
      "0  0.903552  0.458195  0.434383\n",
      "1  0.719233  0.274481  0.982601\n",
      "2  0.650782  0.927234  0.284195\n",
      "3  0.104679  0.392527  0.107294\n",
      "4  0.908838  0.825959  0.886438\n"
     ]
    }
   ],
   "source": [
    "#5X3 lük float değerler içeren bir df oluşturuyoruz. random.random() bunun için kullanılıyor\n",
    "#np.random.seeed(0) :Kaç defa rastgele sayı üretsin demek. 0 yaparak her çalıştırmada aynı random sayıları elde ederiz\n",
    "df=pd.DataFrame(np.random.random(size=(5,3)))\n",
    "print(df)"
   ]
  },
  {
   "cell_type": "markdown",
   "metadata": {},
   "source": [
    "> __mean()__ ile dataframin ortalamasını alalım. axis değeri vermezsek default 0 kabul eder ve sütun ortalaması alır. axis=1 ise satır ortalaması alır"
   ]
  },
  {
   "cell_type": "code",
   "execution_count": 15,
   "metadata": {},
   "outputs": [
    {
     "name": "stdout",
     "output_type": "stream",
     "text": [
      "0    0.598710\n",
      "1    0.658772\n",
      "2    0.620737\n",
      "3    0.201500\n",
      "4    0.873745\n",
      "dtype: float64\n"
     ]
    }
   ],
   "source": [
    "satır_ort=df.mean(axis=1)\n",
    "print(satır_ort)"
   ]
  },
  {
   "cell_type": "markdown",
   "metadata": {},
   "source": [
    "> Şimdi sub() fonksiyonu kullanarak çıkarma işlemi yapalım. Dikkat etmemiz gereken her bir satır için, satrdaki her değerden ortalamayı çıkarmamız isteniyor\n",
    "<br>Burada da axis=0 kullanacağız ki satır_ort bir sütunluk bir data artık. DataFraemin her satrından satır_ort sütununun değerleri sırayla çıksın."
   ]
  },
  {
   "cell_type": "code",
   "execution_count": 18,
   "metadata": {},
   "outputs": [
    {
     "data": {
      "text/html": [
       "<div>\n",
       "<style scoped>\n",
       "    .dataframe tbody tr th:only-of-type {\n",
       "        vertical-align: middle;\n",
       "    }\n",
       "\n",
       "    .dataframe tbody tr th {\n",
       "        vertical-align: top;\n",
       "    }\n",
       "\n",
       "    .dataframe thead th {\n",
       "        text-align: right;\n",
       "    }\n",
       "</style>\n",
       "<table border=\"1\" class=\"dataframe\">\n",
       "  <thead>\n",
       "    <tr style=\"text-align: right;\">\n",
       "      <th></th>\n",
       "      <th>0</th>\n",
       "      <th>1</th>\n",
       "      <th>2</th>\n",
       "    </tr>\n",
       "  </thead>\n",
       "  <tbody>\n",
       "    <tr>\n",
       "      <th>0</th>\n",
       "      <td>0.304842</td>\n",
       "      <td>-0.140515</td>\n",
       "      <td>-0.164327</td>\n",
       "    </tr>\n",
       "    <tr>\n",
       "      <th>1</th>\n",
       "      <td>0.060461</td>\n",
       "      <td>-0.384291</td>\n",
       "      <td>0.323829</td>\n",
       "    </tr>\n",
       "    <tr>\n",
       "      <th>2</th>\n",
       "      <td>0.030045</td>\n",
       "      <td>0.306497</td>\n",
       "      <td>-0.336542</td>\n",
       "    </tr>\n",
       "    <tr>\n",
       "      <th>3</th>\n",
       "      <td>-0.096821</td>\n",
       "      <td>0.191027</td>\n",
       "      <td>-0.094206</td>\n",
       "    </tr>\n",
       "    <tr>\n",
       "      <th>4</th>\n",
       "      <td>0.035093</td>\n",
       "      <td>-0.047786</td>\n",
       "      <td>0.012693</td>\n",
       "    </tr>\n",
       "  </tbody>\n",
       "</table>\n",
       "</div>"
      ],
      "text/plain": [
       "          0         1         2\n",
       "0  0.304842 -0.140515 -0.164327\n",
       "1  0.060461 -0.384291  0.323829\n",
       "2  0.030045  0.306497 -0.336542\n",
       "3 -0.096821  0.191027 -0.094206\n",
       "4  0.035093 -0.047786  0.012693"
      ]
     },
     "execution_count": 18,
     "metadata": {},
     "output_type": "execute_result"
    }
   ],
   "source": [
    "df.sub(satır_ort,axis=0)"
   ]
  },
  {
   "cell_type": "markdown",
   "metadata": {},
   "source": [
    "### Bir DataFrame'de en küçük toplamı içeren sütunu bulmak\n",
    "idxmin() metodu ile"
   ]
  },
  {
   "cell_type": "markdown",
   "metadata": {},
   "source": [
    "> Reel sayılarda 10 sütun içeren bir DataFrame olsun"
   ]
  },
  {
   "cell_type": "code",
   "execution_count": 42,
   "metadata": {},
   "outputs": [
    {
     "name": "stdout",
     "output_type": "stream",
     "text": [
      "          a         b         c         d         e         f         g  \\\n",
      "0  0.494656  0.944016  0.409508  0.459766  0.114651  0.423382  0.230332   \n",
      "1  0.259324  0.903089  0.471838  0.479406  0.172337  0.839149  0.893164   \n",
      "2  0.976247  0.775812  0.595851  0.494112  0.653462  0.501418  0.892387   \n",
      "3  0.999897  0.091666  0.570250  0.016988  0.756336  0.901348  0.242352   \n",
      "4  0.154693  0.167811  0.798440  0.580711  0.434630  0.341376  0.082723   \n",
      "\n",
      "          h         i         j  \n",
      "0  0.664482  0.330487  0.735249  \n",
      "1  0.088234  0.064765  0.390319  \n",
      "2  0.711075  0.697033  0.621928  \n",
      "3  0.652747  0.933564  0.657447  \n",
      "4  0.887264  0.719941  0.155633  \n"
     ]
    }
   ],
   "source": [
    "df = pd.DataFrame(np.random.random(size=(5,10)),columns=list(\"abcdefghij\"))\n",
    "print(df)"
   ]
  },
  {
   "cell_type": "markdown",
   "metadata": {},
   "source": [
    "> sum() metodu her sütunun toplamını döner"
   ]
  },
  {
   "cell_type": "code",
   "execution_count": 43,
   "metadata": {},
   "outputs": [
    {
     "name": "stdout",
     "output_type": "stream",
     "text": [
      "a    2.884818\n",
      "b    2.882394\n",
      "c    2.845887\n",
      "d    2.030984\n",
      "e    2.131415\n",
      "f    3.006673\n",
      "g    2.340958\n",
      "h    3.003803\n",
      "i    2.745790\n",
      "j    2.560576\n",
      "dtype: float64\n"
     ]
    }
   ],
   "source": [
    "print(df.sum())"
   ]
  },
  {
   "cell_type": "markdown",
   "metadata": {},
   "source": [
    "> idxmin() bize bu sum sütununun en küçük değerinin indexini föner"
   ]
  },
  {
   "cell_type": "code",
   "execution_count": 44,
   "metadata": {},
   "outputs": [
    {
     "name": "stdout",
     "output_type": "stream",
     "text": [
      "d\n"
     ]
    }
   ],
   "source": [
    "print(df.sum().idxmin())"
   ]
  },
  {
   "cell_type": "markdown",
   "metadata": {},
   "source": [
    "### Bir DataFrame'de aynı olmayan(benzersiz) satırları bulma"
   ]
  },
  {
   "cell_type": "markdown",
   "metadata": {},
   "source": [
    "duplicated() , False /True döner ve her bir satrır benzersiz ise False, tekrar eden bir satır ise True döner"
   ]
  },
  {
   "cell_type": "markdown",
   "metadata": {},
   "source": [
    "> df.dublicated(keep=Flase).sum() ile benzersiz satırları bulup kaç tane olduğunu döneriz. Burada 5 satırımız var ve birbiriyle eşleşen satır hiç yok. Bu yüzden 0 döner"
   ]
  },
  {
   "cell_type": "code",
   "execution_count": 45,
   "metadata": {},
   "outputs": [
    {
     "name": "stdout",
     "output_type": "stream",
     "text": [
      "          a         b         c         d         e         f         g  \\\n",
      "0  0.494656  0.944016  0.409508  0.459766  0.114651  0.423382  0.230332   \n",
      "1  0.259324  0.903089  0.471838  0.479406  0.172337  0.839149  0.893164   \n",
      "2  0.976247  0.775812  0.595851  0.494112  0.653462  0.501418  0.892387   \n",
      "3  0.999897  0.091666  0.570250  0.016988  0.756336  0.901348  0.242352   \n",
      "4  0.154693  0.167811  0.798440  0.580711  0.434630  0.341376  0.082723   \n",
      "\n",
      "          h         i         j  \n",
      "0  0.664482  0.330487  0.735249  \n",
      "1  0.088234  0.064765  0.390319  \n",
      "2  0.711075  0.697033  0.621928  \n",
      "3  0.652747  0.933564  0.657447  \n",
      "4  0.887264  0.719941  0.155633  \n",
      "0    False\n",
      "1    False\n",
      "2    False\n",
      "3    False\n",
      "4    False\n",
      "dtype: bool\n",
      "0\n"
     ]
    }
   ],
   "source": [
    "print(df)\n",
    "\n",
    "print(df.duplicated())\n",
    "print(df.duplicated().sum())"
   ]
  },
  {
   "cell_type": "markdown",
   "metadata": {},
   "source": [
    "### Her satırda 5 NaN değeri olan bir DataFrame'in her satırı için 3. NaN değeri içeren sütunları bulma"
   ]
  },
  {
   "cell_type": "markdown",
   "metadata": {},
   "source": [
    "> Veri setini oluşturalım\n",
    "<br>random.random() ya da random.rand() kullanabiliriz."
   ]
  },
  {
   "cell_type": "code",
   "execution_count": 53,
   "metadata": {},
   "outputs": [
    {
     "name": "stdout",
     "output_type": "stream",
     "text": [
      "          A         B         C         D         E         F         G  \\\n",
      "0  0.748759  0.665050  0.567850  0.976835  0.253567  0.884786  0.699721   \n",
      "1  0.976149  0.460446  0.010372  0.915619  0.929867  0.252537  0.584597   \n",
      "2  0.084368  0.566978  0.807687  0.983059  0.247697  0.227453  0.300048   \n",
      "3  0.568778  0.182987  0.944702  0.914322  0.555008  0.960038  0.779201   \n",
      "4  0.362082  0.833041  0.550703  0.277078  0.877514  0.814899  0.326344   \n",
      "5  0.074972  0.439108  0.631413  0.826469  0.359664  0.470627  0.992324   \n",
      "6  0.852190  0.344704  0.485607  0.261900  0.941877  0.194828  0.823136   \n",
      "7  0.953971  0.677245  0.745831  0.311080  0.094076  0.492338  0.106240   \n",
      "8  0.191440  0.788492  0.306544  0.365430  0.830453  0.169613  0.853314   \n",
      "9  0.070300  0.133906  0.688967  0.836282  0.207802  0.448455  0.105180   \n",
      "\n",
      "          H         I         J  \n",
      "0  0.409019  0.048826  0.733370  \n",
      "1  0.204135  0.321917  0.238384  \n",
      "2  0.178533  0.586335  0.995813  \n",
      "3  0.528712  0.941538  0.860205  \n",
      "4  0.938326  0.538369  0.174478  \n",
      "5  0.972809  0.022230  0.054397  \n",
      "6  0.392304  0.157725  0.678147  \n",
      "7  0.941060  0.662512  0.233306  \n",
      "8  0.119623  0.242406  0.408888  \n",
      "9  0.465097  0.195723  0.913421  \n"
     ]
    }
   ],
   "source": [
    "df= pd.DataFrame(np.random.rand(10,10),columns=list(\"ABCDEFGHIJ\"))\n",
    "print(df)"
   ]
  },
  {
   "cell_type": "markdown",
   "metadata": {},
   "source": [
    "> Her satırda 5 tane NaN değer olsun. \n",
    "<br>Bunun için for döngüsü kullanırız. Ayrıca 5 tane değeri random belirliceğiz(hangi hücrelerde NaN olacağı) bunuda random.choice(10,5,replace=False) ile yaparız. Bu satır 0'dan 10'a kadar sayılardan 5 tane oluşturur ve her biri ayrı değerde oluşturur."
   ]
  },
  {
   "cell_type": "code",
   "execution_count": 54,
   "metadata": {},
   "outputs": [
    {
     "name": "stdout",
     "output_type": "stream",
     "text": [
      "          A         B         C         D         E         F         G  \\\n",
      "0       NaN       NaN       NaN       NaN  0.253567  0.884786  0.699721   \n",
      "1       NaN       NaN  0.010372  0.915619  0.929867  0.252537       NaN   \n",
      "2  0.084368  0.566978       NaN  0.983059       NaN  0.227453       NaN   \n",
      "3       NaN       NaN       NaN  0.914322  0.555008  0.960038       NaN   \n",
      "4       NaN  0.833041  0.550703  0.277078  0.877514       NaN       NaN   \n",
      "5       NaN       NaN  0.631413  0.826469       NaN       NaN       NaN   \n",
      "6  0.852190  0.344704       NaN  0.261900       NaN       NaN       NaN   \n",
      "7  0.953971       NaN  0.745831       NaN       NaN       NaN  0.106240   \n",
      "8  0.191440       NaN       NaN       NaN  0.830453  0.169613  0.853314   \n",
      "9  0.070300       NaN  0.688967  0.836282  0.207802       NaN       NaN   \n",
      "\n",
      "          H         I         J  \n",
      "0  0.409019  0.048826       NaN  \n",
      "1       NaN       NaN  0.238384  \n",
      "2       NaN       NaN  0.995813  \n",
      "3       NaN  0.941538  0.860205  \n",
      "4       NaN       NaN  0.174478  \n",
      "5  0.972809  0.022230  0.054397  \n",
      "6  0.392304       NaN  0.678147  \n",
      "7       NaN  0.662512  0.233306  \n",
      "8       NaN       NaN  0.408888  \n",
      "9  0.465097       NaN       NaN  \n"
     ]
    }
   ],
   "source": [
    "for i in range(10): # satır değeri\n",
    "    for eleman in np.random.choice(10,5,replace=False): # sütun değeri 5 tane farklı değer oluşturuyoruz. Böylece iloc[satır,sütun]= np.NaN ile NaN atıyoruz\n",
    "        df.iloc[i,eleman]=np.NaN\n",
    "print(df)   \n"
   ]
  },
  {
   "cell_type": "markdown",
   "metadata": {},
   "source": [
    "> Şimdi her satırda ki 3. NaN değerini bulan kodu yazalım\n",
    "<br> .isnull() fonksiyonu NaN olanları True, NaN olmayanları False olarak dönen bir metottu. Bunu kullanabiliriz"
   ]
  },
  {
   "cell_type": "code",
   "execution_count": 57,
   "metadata": {},
   "outputs": [
    {
     "data": {
      "text/html": [
       "<div>\n",
       "<style scoped>\n",
       "    .dataframe tbody tr th:only-of-type {\n",
       "        vertical-align: middle;\n",
       "    }\n",
       "\n",
       "    .dataframe tbody tr th {\n",
       "        vertical-align: top;\n",
       "    }\n",
       "\n",
       "    .dataframe thead th {\n",
       "        text-align: right;\n",
       "    }\n",
       "</style>\n",
       "<table border=\"1\" class=\"dataframe\">\n",
       "  <thead>\n",
       "    <tr style=\"text-align: right;\">\n",
       "      <th></th>\n",
       "      <th>A</th>\n",
       "      <th>B</th>\n",
       "      <th>C</th>\n",
       "      <th>D</th>\n",
       "      <th>E</th>\n",
       "      <th>F</th>\n",
       "      <th>G</th>\n",
       "      <th>H</th>\n",
       "      <th>I</th>\n",
       "      <th>J</th>\n",
       "    </tr>\n",
       "  </thead>\n",
       "  <tbody>\n",
       "    <tr>\n",
       "      <th>0</th>\n",
       "      <td>True</td>\n",
       "      <td>True</td>\n",
       "      <td>True</td>\n",
       "      <td>True</td>\n",
       "      <td>False</td>\n",
       "      <td>False</td>\n",
       "      <td>False</td>\n",
       "      <td>False</td>\n",
       "      <td>False</td>\n",
       "      <td>True</td>\n",
       "    </tr>\n",
       "    <tr>\n",
       "      <th>1</th>\n",
       "      <td>True</td>\n",
       "      <td>True</td>\n",
       "      <td>False</td>\n",
       "      <td>False</td>\n",
       "      <td>False</td>\n",
       "      <td>False</td>\n",
       "      <td>True</td>\n",
       "      <td>True</td>\n",
       "      <td>True</td>\n",
       "      <td>False</td>\n",
       "    </tr>\n",
       "    <tr>\n",
       "      <th>2</th>\n",
       "      <td>False</td>\n",
       "      <td>False</td>\n",
       "      <td>True</td>\n",
       "      <td>False</td>\n",
       "      <td>True</td>\n",
       "      <td>False</td>\n",
       "      <td>True</td>\n",
       "      <td>True</td>\n",
       "      <td>True</td>\n",
       "      <td>False</td>\n",
       "    </tr>\n",
       "    <tr>\n",
       "      <th>3</th>\n",
       "      <td>True</td>\n",
       "      <td>True</td>\n",
       "      <td>True</td>\n",
       "      <td>False</td>\n",
       "      <td>False</td>\n",
       "      <td>False</td>\n",
       "      <td>True</td>\n",
       "      <td>True</td>\n",
       "      <td>False</td>\n",
       "      <td>False</td>\n",
       "    </tr>\n",
       "    <tr>\n",
       "      <th>4</th>\n",
       "      <td>True</td>\n",
       "      <td>False</td>\n",
       "      <td>False</td>\n",
       "      <td>False</td>\n",
       "      <td>False</td>\n",
       "      <td>True</td>\n",
       "      <td>True</td>\n",
       "      <td>True</td>\n",
       "      <td>True</td>\n",
       "      <td>False</td>\n",
       "    </tr>\n",
       "    <tr>\n",
       "      <th>5</th>\n",
       "      <td>True</td>\n",
       "      <td>True</td>\n",
       "      <td>False</td>\n",
       "      <td>False</td>\n",
       "      <td>True</td>\n",
       "      <td>True</td>\n",
       "      <td>True</td>\n",
       "      <td>False</td>\n",
       "      <td>False</td>\n",
       "      <td>False</td>\n",
       "    </tr>\n",
       "    <tr>\n",
       "      <th>6</th>\n",
       "      <td>False</td>\n",
       "      <td>False</td>\n",
       "      <td>True</td>\n",
       "      <td>False</td>\n",
       "      <td>True</td>\n",
       "      <td>True</td>\n",
       "      <td>True</td>\n",
       "      <td>False</td>\n",
       "      <td>True</td>\n",
       "      <td>False</td>\n",
       "    </tr>\n",
       "    <tr>\n",
       "      <th>7</th>\n",
       "      <td>False</td>\n",
       "      <td>True</td>\n",
       "      <td>False</td>\n",
       "      <td>True</td>\n",
       "      <td>True</td>\n",
       "      <td>True</td>\n",
       "      <td>False</td>\n",
       "      <td>True</td>\n",
       "      <td>False</td>\n",
       "      <td>False</td>\n",
       "    </tr>\n",
       "    <tr>\n",
       "      <th>8</th>\n",
       "      <td>False</td>\n",
       "      <td>True</td>\n",
       "      <td>True</td>\n",
       "      <td>True</td>\n",
       "      <td>False</td>\n",
       "      <td>False</td>\n",
       "      <td>False</td>\n",
       "      <td>True</td>\n",
       "      <td>True</td>\n",
       "      <td>False</td>\n",
       "    </tr>\n",
       "    <tr>\n",
       "      <th>9</th>\n",
       "      <td>False</td>\n",
       "      <td>True</td>\n",
       "      <td>False</td>\n",
       "      <td>False</td>\n",
       "      <td>False</td>\n",
       "      <td>True</td>\n",
       "      <td>True</td>\n",
       "      <td>False</td>\n",
       "      <td>True</td>\n",
       "      <td>True</td>\n",
       "    </tr>\n",
       "  </tbody>\n",
       "</table>\n",
       "</div>"
      ],
      "text/plain": [
       "       A      B      C      D      E      F      G      H      I      J\n",
       "0   True   True   True   True  False  False  False  False  False   True\n",
       "1   True   True  False  False  False  False   True   True   True  False\n",
       "2  False  False   True  False   True  False   True   True   True  False\n",
       "3   True   True   True  False  False  False   True   True  False  False\n",
       "4   True  False  False  False  False   True   True   True   True  False\n",
       "5   True   True  False  False   True   True   True  False  False  False\n",
       "6  False  False   True  False   True   True   True  False   True  False\n",
       "7  False   True  False   True   True   True  False   True  False  False\n",
       "8  False   True   True   True  False  False  False   True   True  False\n",
       "9  False   True  False  False  False   True   True  False   True   True"
      ]
     },
     "execution_count": 57,
     "metadata": {},
     "output_type": "execute_result"
    }
   ],
   "source": [
    "df.isnull()"
   ]
  },
  {
   "cell_type": "markdown",
   "metadata": {},
   "source": [
    ">cumsum() ile kümülatif toplam alır. isnull().cumsum(axis=1) yaptığımızda satırlardaki NaN değerlerin küm toplamını elde ederiz. 3 değerinin ilk elde edildiği hücre 3. NaN değeri olur"
   ]
  },
  {
   "cell_type": "code",
   "execution_count": 59,
   "metadata": {},
   "outputs": [
    {
     "data": {
      "text/html": [
       "<div>\n",
       "<style scoped>\n",
       "    .dataframe tbody tr th:only-of-type {\n",
       "        vertical-align: middle;\n",
       "    }\n",
       "\n",
       "    .dataframe tbody tr th {\n",
       "        vertical-align: top;\n",
       "    }\n",
       "\n",
       "    .dataframe thead th {\n",
       "        text-align: right;\n",
       "    }\n",
       "</style>\n",
       "<table border=\"1\" class=\"dataframe\">\n",
       "  <thead>\n",
       "    <tr style=\"text-align: right;\">\n",
       "      <th></th>\n",
       "      <th>A</th>\n",
       "      <th>B</th>\n",
       "      <th>C</th>\n",
       "      <th>D</th>\n",
       "      <th>E</th>\n",
       "      <th>F</th>\n",
       "      <th>G</th>\n",
       "      <th>H</th>\n",
       "      <th>I</th>\n",
       "      <th>J</th>\n",
       "    </tr>\n",
       "  </thead>\n",
       "  <tbody>\n",
       "    <tr>\n",
       "      <th>0</th>\n",
       "      <td>1</td>\n",
       "      <td>2</td>\n",
       "      <td>3</td>\n",
       "      <td>4</td>\n",
       "      <td>4</td>\n",
       "      <td>4</td>\n",
       "      <td>4</td>\n",
       "      <td>4</td>\n",
       "      <td>4</td>\n",
       "      <td>5</td>\n",
       "    </tr>\n",
       "    <tr>\n",
       "      <th>1</th>\n",
       "      <td>1</td>\n",
       "      <td>2</td>\n",
       "      <td>2</td>\n",
       "      <td>2</td>\n",
       "      <td>2</td>\n",
       "      <td>2</td>\n",
       "      <td>3</td>\n",
       "      <td>4</td>\n",
       "      <td>5</td>\n",
       "      <td>5</td>\n",
       "    </tr>\n",
       "    <tr>\n",
       "      <th>2</th>\n",
       "      <td>0</td>\n",
       "      <td>0</td>\n",
       "      <td>1</td>\n",
       "      <td>1</td>\n",
       "      <td>2</td>\n",
       "      <td>2</td>\n",
       "      <td>3</td>\n",
       "      <td>4</td>\n",
       "      <td>5</td>\n",
       "      <td>5</td>\n",
       "    </tr>\n",
       "    <tr>\n",
       "      <th>3</th>\n",
       "      <td>1</td>\n",
       "      <td>2</td>\n",
       "      <td>3</td>\n",
       "      <td>3</td>\n",
       "      <td>3</td>\n",
       "      <td>3</td>\n",
       "      <td>4</td>\n",
       "      <td>5</td>\n",
       "      <td>5</td>\n",
       "      <td>5</td>\n",
       "    </tr>\n",
       "    <tr>\n",
       "      <th>4</th>\n",
       "      <td>1</td>\n",
       "      <td>1</td>\n",
       "      <td>1</td>\n",
       "      <td>1</td>\n",
       "      <td>1</td>\n",
       "      <td>2</td>\n",
       "      <td>3</td>\n",
       "      <td>4</td>\n",
       "      <td>5</td>\n",
       "      <td>5</td>\n",
       "    </tr>\n",
       "    <tr>\n",
       "      <th>5</th>\n",
       "      <td>1</td>\n",
       "      <td>2</td>\n",
       "      <td>2</td>\n",
       "      <td>2</td>\n",
       "      <td>3</td>\n",
       "      <td>4</td>\n",
       "      <td>5</td>\n",
       "      <td>5</td>\n",
       "      <td>5</td>\n",
       "      <td>5</td>\n",
       "    </tr>\n",
       "    <tr>\n",
       "      <th>6</th>\n",
       "      <td>0</td>\n",
       "      <td>0</td>\n",
       "      <td>1</td>\n",
       "      <td>1</td>\n",
       "      <td>2</td>\n",
       "      <td>3</td>\n",
       "      <td>4</td>\n",
       "      <td>4</td>\n",
       "      <td>5</td>\n",
       "      <td>5</td>\n",
       "    </tr>\n",
       "    <tr>\n",
       "      <th>7</th>\n",
       "      <td>0</td>\n",
       "      <td>1</td>\n",
       "      <td>1</td>\n",
       "      <td>2</td>\n",
       "      <td>3</td>\n",
       "      <td>4</td>\n",
       "      <td>4</td>\n",
       "      <td>5</td>\n",
       "      <td>5</td>\n",
       "      <td>5</td>\n",
       "    </tr>\n",
       "    <tr>\n",
       "      <th>8</th>\n",
       "      <td>0</td>\n",
       "      <td>1</td>\n",
       "      <td>2</td>\n",
       "      <td>3</td>\n",
       "      <td>3</td>\n",
       "      <td>3</td>\n",
       "      <td>3</td>\n",
       "      <td>4</td>\n",
       "      <td>5</td>\n",
       "      <td>5</td>\n",
       "    </tr>\n",
       "    <tr>\n",
       "      <th>9</th>\n",
       "      <td>0</td>\n",
       "      <td>1</td>\n",
       "      <td>1</td>\n",
       "      <td>1</td>\n",
       "      <td>1</td>\n",
       "      <td>2</td>\n",
       "      <td>3</td>\n",
       "      <td>3</td>\n",
       "      <td>4</td>\n",
       "      <td>5</td>\n",
       "    </tr>\n",
       "  </tbody>\n",
       "</table>\n",
       "</div>"
      ],
      "text/plain": [
       "   A  B  C  D  E  F  G  H  I  J\n",
       "0  1  2  3  4  4  4  4  4  4  5\n",
       "1  1  2  2  2  2  2  3  4  5  5\n",
       "2  0  0  1  1  2  2  3  4  5  5\n",
       "3  1  2  3  3  3  3  4  5  5  5\n",
       "4  1  1  1  1  1  2  3  4  5  5\n",
       "5  1  2  2  2  3  4  5  5  5  5\n",
       "6  0  0  1  1  2  3  4  4  5  5\n",
       "7  0  1  1  2  3  4  4  5  5  5\n",
       "8  0  1  2  3  3  3  3  4  5  5\n",
       "9  0  1  1  1  1  2  3  3  4  5"
      ]
     },
     "execution_count": 59,
     "metadata": {},
     "output_type": "execute_result"
    }
   ],
   "source": [
    "df.isnull().cumsum(axis=1)"
   ]
  },
  {
   "cell_type": "markdown",
   "metadata": {},
   "source": [
    ">df.isnull().cumsum(axis=1) == 3 ile Satırları 3.NaN değerlerini elde ederiz. 3.NaN değerleri True, diğerleri False olacaktır"
   ]
  },
  {
   "cell_type": "code",
   "execution_count": 60,
   "metadata": {},
   "outputs": [
    {
     "data": {
      "text/html": [
       "<div>\n",
       "<style scoped>\n",
       "    .dataframe tbody tr th:only-of-type {\n",
       "        vertical-align: middle;\n",
       "    }\n",
       "\n",
       "    .dataframe tbody tr th {\n",
       "        vertical-align: top;\n",
       "    }\n",
       "\n",
       "    .dataframe thead th {\n",
       "        text-align: right;\n",
       "    }\n",
       "</style>\n",
       "<table border=\"1\" class=\"dataframe\">\n",
       "  <thead>\n",
       "    <tr style=\"text-align: right;\">\n",
       "      <th></th>\n",
       "      <th>A</th>\n",
       "      <th>B</th>\n",
       "      <th>C</th>\n",
       "      <th>D</th>\n",
       "      <th>E</th>\n",
       "      <th>F</th>\n",
       "      <th>G</th>\n",
       "      <th>H</th>\n",
       "      <th>I</th>\n",
       "      <th>J</th>\n",
       "    </tr>\n",
       "  </thead>\n",
       "  <tbody>\n",
       "    <tr>\n",
       "      <th>0</th>\n",
       "      <td>False</td>\n",
       "      <td>False</td>\n",
       "      <td>True</td>\n",
       "      <td>False</td>\n",
       "      <td>False</td>\n",
       "      <td>False</td>\n",
       "      <td>False</td>\n",
       "      <td>False</td>\n",
       "      <td>False</td>\n",
       "      <td>False</td>\n",
       "    </tr>\n",
       "    <tr>\n",
       "      <th>1</th>\n",
       "      <td>False</td>\n",
       "      <td>False</td>\n",
       "      <td>False</td>\n",
       "      <td>False</td>\n",
       "      <td>False</td>\n",
       "      <td>False</td>\n",
       "      <td>True</td>\n",
       "      <td>False</td>\n",
       "      <td>False</td>\n",
       "      <td>False</td>\n",
       "    </tr>\n",
       "    <tr>\n",
       "      <th>2</th>\n",
       "      <td>False</td>\n",
       "      <td>False</td>\n",
       "      <td>False</td>\n",
       "      <td>False</td>\n",
       "      <td>False</td>\n",
       "      <td>False</td>\n",
       "      <td>True</td>\n",
       "      <td>False</td>\n",
       "      <td>False</td>\n",
       "      <td>False</td>\n",
       "    </tr>\n",
       "    <tr>\n",
       "      <th>3</th>\n",
       "      <td>False</td>\n",
       "      <td>False</td>\n",
       "      <td>True</td>\n",
       "      <td>True</td>\n",
       "      <td>True</td>\n",
       "      <td>True</td>\n",
       "      <td>False</td>\n",
       "      <td>False</td>\n",
       "      <td>False</td>\n",
       "      <td>False</td>\n",
       "    </tr>\n",
       "    <tr>\n",
       "      <th>4</th>\n",
       "      <td>False</td>\n",
       "      <td>False</td>\n",
       "      <td>False</td>\n",
       "      <td>False</td>\n",
       "      <td>False</td>\n",
       "      <td>False</td>\n",
       "      <td>True</td>\n",
       "      <td>False</td>\n",
       "      <td>False</td>\n",
       "      <td>False</td>\n",
       "    </tr>\n",
       "    <tr>\n",
       "      <th>5</th>\n",
       "      <td>False</td>\n",
       "      <td>False</td>\n",
       "      <td>False</td>\n",
       "      <td>False</td>\n",
       "      <td>True</td>\n",
       "      <td>False</td>\n",
       "      <td>False</td>\n",
       "      <td>False</td>\n",
       "      <td>False</td>\n",
       "      <td>False</td>\n",
       "    </tr>\n",
       "    <tr>\n",
       "      <th>6</th>\n",
       "      <td>False</td>\n",
       "      <td>False</td>\n",
       "      <td>False</td>\n",
       "      <td>False</td>\n",
       "      <td>False</td>\n",
       "      <td>True</td>\n",
       "      <td>False</td>\n",
       "      <td>False</td>\n",
       "      <td>False</td>\n",
       "      <td>False</td>\n",
       "    </tr>\n",
       "    <tr>\n",
       "      <th>7</th>\n",
       "      <td>False</td>\n",
       "      <td>False</td>\n",
       "      <td>False</td>\n",
       "      <td>False</td>\n",
       "      <td>True</td>\n",
       "      <td>False</td>\n",
       "      <td>False</td>\n",
       "      <td>False</td>\n",
       "      <td>False</td>\n",
       "      <td>False</td>\n",
       "    </tr>\n",
       "    <tr>\n",
       "      <th>8</th>\n",
       "      <td>False</td>\n",
       "      <td>False</td>\n",
       "      <td>False</td>\n",
       "      <td>True</td>\n",
       "      <td>True</td>\n",
       "      <td>True</td>\n",
       "      <td>True</td>\n",
       "      <td>False</td>\n",
       "      <td>False</td>\n",
       "      <td>False</td>\n",
       "    </tr>\n",
       "    <tr>\n",
       "      <th>9</th>\n",
       "      <td>False</td>\n",
       "      <td>False</td>\n",
       "      <td>False</td>\n",
       "      <td>False</td>\n",
       "      <td>False</td>\n",
       "      <td>False</td>\n",
       "      <td>True</td>\n",
       "      <td>True</td>\n",
       "      <td>False</td>\n",
       "      <td>False</td>\n",
       "    </tr>\n",
       "  </tbody>\n",
       "</table>\n",
       "</div>"
      ],
      "text/plain": [
       "       A      B      C      D      E      F      G      H      I      J\n",
       "0  False  False   True  False  False  False  False  False  False  False\n",
       "1  False  False  False  False  False  False   True  False  False  False\n",
       "2  False  False  False  False  False  False   True  False  False  False\n",
       "3  False  False   True   True   True   True  False  False  False  False\n",
       "4  False  False  False  False  False  False   True  False  False  False\n",
       "5  False  False  False  False   True  False  False  False  False  False\n",
       "6  False  False  False  False  False   True  False  False  False  False\n",
       "7  False  False  False  False   True  False  False  False  False  False\n",
       "8  False  False  False   True   True   True   True  False  False  False\n",
       "9  False  False  False  False  False  False   True   True  False  False"
      ]
     },
     "execution_count": 60,
     "metadata": {},
     "output_type": "execute_result"
    }
   ],
   "source": [
    "df.isnull().cumsum(axis=1) == 3 "
   ]
  },
  {
   "cell_type": "markdown",
   "metadata": {},
   "source": [
    "> idxmax() ile Max değerin indexini buluruz. Böylece yapmak istedğimiz işlemi gerçekleştirmiş oluyoruz. axis=1 ise index değerleri gelir, 0 satır noları verirdi.\n",
    "<br>( Burada True, False'dan büyüktür. Bu sebeple idxMax kullnaıyoruz. Eğer False'ları seçmek isteseydik idxmin() kullanırdık)"
   ]
  },
  {
   "cell_type": "code",
   "execution_count": 61,
   "metadata": {},
   "outputs": [
    {
     "data": {
      "text/plain": [
       "0    C\n",
       "1    G\n",
       "2    G\n",
       "3    C\n",
       "4    G\n",
       "5    E\n",
       "6    F\n",
       "7    E\n",
       "8    D\n",
       "9    G\n",
       "dtype: object"
      ]
     },
     "execution_count": 61,
     "metadata": {},
     "output_type": "execute_result"
    }
   ],
   "source": [
    "(df.isnull().cumsum(axis=1) == 3 ).idxmax(axis=1)"
   ]
  },
  {
   "cell_type": "markdown",
   "metadata": {},
   "source": [
    "### Bir DataFrame bir drup \"grps\" sütununa ve \"vais\" sayı sütununa sahiptir. Her grup için en büyük üç değerin toplamını bulalım"
   ]
  },
  {
   "cell_type": "markdown",
   "metadata": {},
   "source": [
    "> df'i oluşturalım"
   ]
  },
  {
   "cell_type": "code",
   "execution_count": 62,
   "metadata": {},
   "outputs": [
    {
     "name": "stdout",
     "output_type": "stream",
     "text": [
      "   grps  vals\n",
      "0     a    12\n",
      "1     a   345\n",
      "2     a     3\n",
      "3     b     1\n",
      "4     b    45\n",
      "5     c    14\n",
      "6     a     4\n",
      "7     a    52\n",
      "8     b    54\n",
      "9     c    23\n",
      "10    c   235\n",
      "11    c    21\n",
      "12    b    57\n",
      "13    b     3\n",
      "14    c    87\n"
     ]
    }
   ],
   "source": [
    "df= pd.DataFrame({\"grps\":list(\"aaabbcaabcccbbc\"),\n",
    "                 \"vals\":[12,345,3,1,45,14,4,52,54,23,235,21,57,3,87]})\n",
    "print(df)"
   ]
  },
  {
   "cell_type": "markdown",
   "metadata": {},
   "source": [
    "> Görüldüğü gibi gruplar karışık olarak sıralanmış. Bunları groupby ile istenen fonksiyona göre gruplayabiliriz. "
   ]
  },
  {
   "cell_type": "code",
   "execution_count": 75,
   "metadata": {},
   "outputs": [
    {
     "data": {
      "text/html": [
       "<div>\n",
       "<style scoped>\n",
       "    .dataframe tbody tr th:only-of-type {\n",
       "        vertical-align: middle;\n",
       "    }\n",
       "\n",
       "    .dataframe tbody tr th {\n",
       "        vertical-align: top;\n",
       "    }\n",
       "\n",
       "    .dataframe thead th {\n",
       "        text-align: right;\n",
       "    }\n",
       "</style>\n",
       "<table border=\"1\" class=\"dataframe\">\n",
       "  <thead>\n",
       "    <tr style=\"text-align: right;\">\n",
       "      <th></th>\n",
       "      <th>vals</th>\n",
       "    </tr>\n",
       "    <tr>\n",
       "      <th>grps</th>\n",
       "      <th></th>\n",
       "    </tr>\n",
       "  </thead>\n",
       "  <tbody>\n",
       "    <tr>\n",
       "      <th>a</th>\n",
       "      <td>5</td>\n",
       "    </tr>\n",
       "    <tr>\n",
       "      <th>b</th>\n",
       "      <td>5</td>\n",
       "    </tr>\n",
       "    <tr>\n",
       "      <th>c</th>\n",
       "      <td>5</td>\n",
       "    </tr>\n",
       "  </tbody>\n",
       "</table>\n",
       "</div>"
      ],
      "text/plain": [
       "      vals\n",
       "grps      \n",
       "a        5\n",
       "b        5\n",
       "c        5"
      ]
     },
     "execution_count": 75,
     "metadata": {},
     "output_type": "execute_result"
    }
   ],
   "source": [
    "df.groupby('grps').count()"
   ]
  },
  {
   "cell_type": "markdown",
   "metadata": {},
   "source": [
    ">Biz burada en büyük değerleri istiyorduj __nlargest()__ bize verdiğimiz parametre kadar grupdaki en büyük değerleri dönen bir fonksiyondur.\n",
    "<br> Burada grubun içindeki \"vals\" değerlerinden 3'ünü seçiçez. \n",
    "<br>_df.groupby(\"grps\")[\"vals\"].nlargest(3)_"
   ]
  },
  {
   "cell_type": "code",
   "execution_count": 77,
   "metadata": {},
   "outputs": [
    {
     "data": {
      "text/plain": [
       "grps    \n",
       "a     1     345\n",
       "      7      52\n",
       "      0      12\n",
       "b     12     57\n",
       "      8      54\n",
       "      4      45\n",
       "c     10    235\n",
       "      14     87\n",
       "      9      23\n",
       "Name: vals, dtype: int64"
      ]
     },
     "execution_count": 77,
     "metadata": {},
     "output_type": "execute_result"
    }
   ],
   "source": [
    "df.groupby(\"grps\")[\"vals\"].nlargest(3)"
   ]
  },
  {
   "cell_type": "markdown",
   "metadata": {},
   "source": [
    ">Bunların değerlerini .sum() ile toplamını buluruz. Ancak her grup için ayrı ayrı toplam bulacağımızdan : sum(level=0) yazmalıyız. Aksi takdirde tamamın toplamını alacaktır"
   ]
  },
  {
   "cell_type": "code",
   "execution_count": 82,
   "metadata": {},
   "outputs": [
    {
     "data": {
      "text/plain": [
       "grps\n",
       "a    409\n",
       "b    156\n",
       "c    345\n",
       "Name: vals, dtype: int64"
      ]
     },
     "execution_count": 82,
     "metadata": {},
     "output_type": "execute_result"
    }
   ],
   "source": [
    "df.groupby(\"grps\")[\"vals\"].nlargest(3).sum(level=0)"
   ]
  },
  {
   "cell_type": "markdown",
   "metadata": {},
   "source": [
    "### İki Tamsayı sütununa sahip bir DataFrame'de A sütunu sıralı 1 ile 100(dahil) sayıları arasındadır, B sütunu ise random değerler almaktadır. A sütunun 10'arlı gruplara karşılık gelen B grup değerlerinin toplamını hesaplayalım"
   ]
  },
  {
   "cell_type": "markdown",
   "metadata": {},
   "source": [
    "> DataFrame'i oluşturalım.\n",
    "<br>A sütunu sıralı olduğundan _np.arange(100)+1_ ile  1-100 arası oluştururuz\n",
    "<br>B sütunu ise rastgele sayılardan 0-10 arası 100 tane oluşturulacak. Tamsayı olacak. Bu sebeple _np.random.random(0,10,size=100)_ ile B sütununu oluştururuz"
   ]
  },
  {
   "cell_type": "code",
   "execution_count": 90,
   "metadata": {},
   "outputs": [
    {
     "name": "stdout",
     "output_type": "stream",
     "text": [
      "      A  B\n",
      "0     1  5\n",
      "1     2  0\n",
      "2     3  3\n",
      "3     4  7\n",
      "4     5  4\n",
      "5     6  8\n",
      "6     7  2\n",
      "7     8  2\n",
      "8     9  2\n",
      "9    10  9\n",
      "10   11  5\n",
      "11   12  8\n",
      "12   13  2\n",
      "13   14  0\n",
      "14   15  4\n",
      "15   16  8\n",
      "16   17  5\n",
      "17   18  7\n",
      "18   19  9\n",
      "19   20  8\n",
      "20   21  1\n",
      "21   22  4\n",
      "22   23  7\n",
      "23   24  3\n",
      "24   25  3\n",
      "25   26  9\n",
      "26   27  2\n",
      "27   28  9\n",
      "28   29  9\n",
      "29   30  7\n",
      "..  ... ..\n",
      "70   71  6\n",
      "71   72  9\n",
      "72   73  1\n",
      "73   74  2\n",
      "74   75  1\n",
      "75   76  4\n",
      "76   77  3\n",
      "77   78  2\n",
      "78   79  4\n",
      "79   80  5\n",
      "80   81  5\n",
      "81   82  6\n",
      "82   83  0\n",
      "83   84  1\n",
      "84   85  5\n",
      "85   86  3\n",
      "86   87  2\n",
      "87   88  7\n",
      "88   89  2\n",
      "89   90  9\n",
      "90   91  8\n",
      "91   92  9\n",
      "92   93  8\n",
      "93   94  7\n",
      "94   95  6\n",
      "95   96  0\n",
      "96   97  5\n",
      "97   98  3\n",
      "98   99  6\n",
      "99  100  2\n",
      "\n",
      "[100 rows x 2 columns]\n"
     ]
    }
   ],
   "source": [
    "df=0\n",
    "df=pd.DataFrame(\n",
    "{\n",
    "    \"A\":np.arange(100)+1,\n",
    "    \"B\":np.random.randint(0,10,size=100)\n",
    "})\n",
    "print(df)"
   ]
  },
  {
   "cell_type": "markdown",
   "metadata": {},
   "source": [
    ">cut() ile gruplama yapabiliriz. _cut(df[\"A\"],np.arange(1,101,10))_ ile A sütununu 0-100 arasında 10'arlı grup yapıyoruz. \n"
   ]
  },
  {
   "cell_type": "code",
   "execution_count": 95,
   "metadata": {},
   "outputs": [
    {
     "data": {
      "text/plain": [
       "0       (0, 10]\n",
       "1       (0, 10]\n",
       "2       (0, 10]\n",
       "3       (0, 10]\n",
       "4       (0, 10]\n",
       "5       (0, 10]\n",
       "6       (0, 10]\n",
       "7       (0, 10]\n",
       "8       (0, 10]\n",
       "9       (0, 10]\n",
       "10     (10, 20]\n",
       "11     (10, 20]\n",
       "12     (10, 20]\n",
       "13     (10, 20]\n",
       "14     (10, 20]\n",
       "15     (10, 20]\n",
       "16     (10, 20]\n",
       "17     (10, 20]\n",
       "18     (10, 20]\n",
       "19     (10, 20]\n",
       "20     (20, 30]\n",
       "21     (20, 30]\n",
       "22     (20, 30]\n",
       "23     (20, 30]\n",
       "24     (20, 30]\n",
       "25     (20, 30]\n",
       "26     (20, 30]\n",
       "27     (20, 30]\n",
       "28     (20, 30]\n",
       "29     (20, 30]\n",
       "        ...    \n",
       "70     (70, 80]\n",
       "71     (70, 80]\n",
       "72     (70, 80]\n",
       "73     (70, 80]\n",
       "74     (70, 80]\n",
       "75     (70, 80]\n",
       "76     (70, 80]\n",
       "77     (70, 80]\n",
       "78     (70, 80]\n",
       "79     (70, 80]\n",
       "80     (80, 90]\n",
       "81     (80, 90]\n",
       "82     (80, 90]\n",
       "83     (80, 90]\n",
       "84     (80, 90]\n",
       "85     (80, 90]\n",
       "86     (80, 90]\n",
       "87     (80, 90]\n",
       "88     (80, 90]\n",
       "89     (80, 90]\n",
       "90    (90, 100]\n",
       "91    (90, 100]\n",
       "92    (90, 100]\n",
       "93    (90, 100]\n",
       "94    (90, 100]\n",
       "95    (90, 100]\n",
       "96    (90, 100]\n",
       "97    (90, 100]\n",
       "98    (90, 100]\n",
       "99    (90, 100]\n",
       "Name: A, Length: 100, dtype: category\n",
       "Categories (10, interval[int64]): [(0, 10] < (10, 20] < (20, 30] < (30, 40] ... (60, 70] < (70, 80] < (80, 90] < (90, 100]]"
      ]
     },
     "execution_count": 95,
     "metadata": {},
     "output_type": "execute_result"
    }
   ],
   "source": [
    "pd.cut(df['A'],np.arange(0,101,10))"
   ]
  },
  {
   "cell_type": "markdown",
   "metadata": {},
   "source": [
    "> gruopby().sum() ile gruplanmış verilerin toplamını alabiliyorduk"
   ]
  },
  {
   "cell_type": "code",
   "execution_count": 96,
   "metadata": {},
   "outputs": [
    {
     "data": {
      "text/plain": [
       "A\n",
       "(0, 10]      42\n",
       "(10, 20]     56\n",
       "(20, 30]     54\n",
       "(30, 40]     41\n",
       "(40, 50]     51\n",
       "(50, 60]     30\n",
       "(60, 70]     61\n",
       "(70, 80]     37\n",
       "(80, 90]     40\n",
       "(90, 100]    54\n",
       "Name: B, dtype: int32"
      ]
     },
     "execution_count": 96,
     "metadata": {},
     "output_type": "execute_result"
    }
   ],
   "source": [
    "df.groupby(pd.cut(df['A'],np.arange(0,101,10)))[\"B\"].sum()"
   ]
  },
  {
   "cell_type": "code",
   "execution_count": null,
   "metadata": {},
   "outputs": [],
   "source": []
  }
 ],
 "metadata": {
  "kernelspec": {
   "display_name": "Python 3",
   "language": "python",
   "name": "python3"
  },
  "language_info": {
   "codemirror_mode": {
    "name": "ipython",
    "version": 3
   },
   "file_extension": ".py",
   "mimetype": "text/x-python",
   "name": "python",
   "nbconvert_exporter": "python",
   "pygments_lexer": "ipython3",
   "version": "3.7.3"
  }
 },
 "nbformat": 4,
 "nbformat_minor": 2
}
