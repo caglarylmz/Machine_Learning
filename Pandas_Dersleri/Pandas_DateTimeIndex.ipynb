{
 "cells": [
  {
   "cell_type": "markdown",
   "metadata": {},
   "source": [
    "# __Series ve DatetimeIndex__"
   ]
  },
  {
   "cell_type": "markdown",
   "metadata": {},
   "source": [
    "## __.__ Verileri datetime verileri ile oluşturma ve işleme"
   ]
  },
  {
   "cell_type": "markdown",
   "metadata": {},
   "source": [
    "### __-__ 2015'in her iş gününü içeren bir DatetimeIndex oluşturarak rastgele sayı dizisine ekleyin:"
   ]
  },
  {
   "cell_type": "markdown",
   "metadata": {},
   "source": [
    "> Pandas'da DatetimeIndex  __date_range(start=\"başlangıç tarihi\",end=\"bitiş tarihi\")__ şeklinde  oluşturulur.\n",
    "<br>__freq__ parametresi ile hangi aralıklarla datanın oluşturulacağı seçilir:\n",
    "<br> - D:(default) belirtilen tarihler arasında her gün oluşturulur. 2D : İkişer günlük artarak data oluşturulur. 10D: On günlük artarak data oluşturulur\n",
    "<br> - M: Verilen tarihler arasındaki aylık data oluşturulur. Ayların başlangıç ve bitiş tarihleri oluşturulur. Aynı şekilde 2M,5M gibi değerler kullanılabilir\n",
    "<br> - H: Verilen tarihler arasındaki günün her saati için data oluşturulur. 2H,20H v.b. kullanım yapılabilir\n",
    "<br> - B: Business Day\n",
    "daha detay için pandas docs'a bakılabilir\n"
   ]
  },
  {
   "cell_type": "code",
   "execution_count": 4,
   "metadata": {},
   "outputs": [
    {
     "name": "stdout",
     "output_type": "stream",
     "text": [
      "DatetimeIndex(['2015-01-01', '2015-01-02', '2015-01-05', '2015-01-06',\n",
      "               '2015-01-07', '2015-01-08', '2015-01-09', '2015-01-12',\n",
      "               '2015-01-13', '2015-01-14',\n",
      "               ...\n",
      "               '2015-12-18', '2015-12-21', '2015-12-22', '2015-12-23',\n",
      "               '2015-12-24', '2015-12-25', '2015-12-28', '2015-12-29',\n",
      "               '2015-12-30', '2015-12-31'],\n",
      "              dtype='datetime64[ns]', length=261, freq='B')\n"
     ]
    }
   ],
   "source": [
    "import pandas as pd\n",
    "import numpy as np\n",
    "\n",
    "dti= pd.date_range(start=\"2015-01-01\", end=\"2015-12-31\", freq=\"B\")\n",
    "print(dti)"
   ]
  },
  {
   "cell_type": "markdown",
   "metadata": {},
   "source": [
    "> pandas series oluşturalım. Amacımız Her tarihin sağında rastgele değerler elde etmek. Index tarihler olacak.\n",
    "<br> Bunun için len(dti) ile dti boyutunu alırız ve random.rand ile bu kadar rastgele sayı üretiriz. index olarak dti veriyoruz"
   ]
  },
  {
   "cell_type": "code",
   "execution_count": 7,
   "metadata": {},
   "outputs": [
    {
     "name": "stdout",
     "output_type": "stream",
     "text": [
      "2015-01-01    0.169668\n",
      "2015-01-02    0.730255\n",
      "2015-01-05    0.997762\n",
      "2015-01-06    0.046054\n",
      "2015-01-07    0.725642\n",
      "2015-01-08    0.893907\n",
      "2015-01-09    0.905446\n",
      "2015-01-12    0.004481\n",
      "2015-01-13    0.033814\n",
      "2015-01-14    0.369301\n",
      "2015-01-15    0.444876\n",
      "2015-01-16    0.241704\n",
      "2015-01-19    0.657745\n",
      "2015-01-20    0.752536\n",
      "2015-01-21    0.166723\n",
      "2015-01-22    0.747604\n",
      "2015-01-23    0.481473\n",
      "2015-01-26    0.420797\n",
      "2015-01-27    0.157699\n",
      "2015-01-28    0.678941\n",
      "2015-01-29    0.817892\n",
      "2015-01-30    0.458431\n",
      "2015-02-02    0.603222\n",
      "2015-02-03    0.168238\n",
      "2015-02-04    0.375279\n",
      "2015-02-05    0.983078\n",
      "2015-02-06    0.766457\n",
      "2015-02-09    0.349110\n",
      "2015-02-10    0.263362\n",
      "2015-02-11    0.308436\n",
      "                ...   \n",
      "2015-11-20    0.148757\n",
      "2015-11-23    0.327295\n",
      "2015-11-24    0.321310\n",
      "2015-11-25    0.974311\n",
      "2015-11-26    0.666809\n",
      "2015-11-27    0.758436\n",
      "2015-11-30    0.134621\n",
      "2015-12-01    0.107079\n",
      "2015-12-02    0.097229\n",
      "2015-12-03    0.946777\n",
      "2015-12-04    0.994302\n",
      "2015-12-07    0.336360\n",
      "2015-12-08    0.954517\n",
      "2015-12-09    0.169395\n",
      "2015-12-10    0.030165\n",
      "2015-12-11    0.910379\n",
      "2015-12-14    0.677378\n",
      "2015-12-15    0.472499\n",
      "2015-12-16    0.701713\n",
      "2015-12-17    0.318512\n",
      "2015-12-18    0.999616\n",
      "2015-12-21    0.943692\n",
      "2015-12-22    0.415780\n",
      "2015-12-23    0.950791\n",
      "2015-12-24    0.856104\n",
      "2015-12-25    0.758809\n",
      "2015-12-28    0.671169\n",
      "2015-12-29    0.652407\n",
      "2015-12-30    0.334365\n",
      "2015-12-31    0.882146\n",
      "Freq: B, Length: 261, dtype: float64\n"
     ]
    }
   ],
   "source": [
    "s = pd.Series(np.random.rand(len(dti)), index=dti)\n",
    "print(s)"
   ]
  },
  {
   "cell_type": "markdown",
   "metadata": {},
   "source": [
    "#### __1.__ Her Çarşamba için s cinsinden değerin toplamını bulalım:"
   ]
  },
  {
   "cell_type": "markdown",
   "metadata": {},
   "source": [
    "> - __s.index.weekday == 2__ ( Pazartesi=0,Salı=1, Çarşamba=2) yapınca s içindeki tüm çarşambalar True değeri alır"
   ]
  },
  {
   "cell_type": "code",
   "execution_count": 10,
   "metadata": {},
   "outputs": [
    {
     "data": {
      "text/plain": [
       "array([False, False, False, False,  True, False, False, False, False,\n",
       "        True, False, False, False, False,  True, False, False, False,\n",
       "       False,  True, False, False, False, False,  True, False, False,\n",
       "       False, False,  True, False, False, False, False,  True, False,\n",
       "       False, False, False,  True, False, False, False, False,  True,\n",
       "       False, False, False, False,  True, False, False, False, False,\n",
       "        True, False, False, False, False,  True, False, False, False,\n",
       "       False,  True, False, False, False, False,  True, False, False,\n",
       "       False, False,  True, False, False, False, False,  True, False,\n",
       "       False, False, False,  True, False, False, False, False,  True,\n",
       "       False, False, False, False,  True, False, False, False, False,\n",
       "        True, False, False, False, False,  True, False, False, False,\n",
       "       False,  True, False, False, False, False,  True, False, False,\n",
       "       False, False,  True, False, False, False, False,  True, False,\n",
       "       False, False, False,  True, False, False, False, False,  True,\n",
       "       False, False, False, False,  True, False, False, False, False,\n",
       "        True, False, False, False, False,  True, False, False, False,\n",
       "       False,  True, False, False, False, False,  True, False, False,\n",
       "       False, False,  True, False, False, False, False,  True, False,\n",
       "       False, False, False,  True, False, False, False, False,  True,\n",
       "       False, False, False, False,  True, False, False, False, False,\n",
       "        True, False, False, False, False,  True, False, False, False,\n",
       "       False,  True, False, False, False, False,  True, False, False,\n",
       "       False, False,  True, False, False, False, False,  True, False,\n",
       "       False, False, False,  True, False, False, False, False,  True,\n",
       "       False, False, False, False,  True, False, False, False, False,\n",
       "        True, False, False, False, False,  True, False, False, False,\n",
       "       False,  True, False, False, False, False,  True, False, False,\n",
       "       False, False,  True, False, False, False, False,  True, False])"
      ]
     },
     "execution_count": 10,
     "metadata": {},
     "output_type": "execute_result"
    }
   ],
   "source": [
    "s.index.weekday==2"
   ]
  },
  {
   "cell_type": "markdown",
   "metadata": {},
   "source": [
    "> - bu kodu s içerisine alırsak tüm True alanlar bize çarşamba değerlerini verir."
   ]
  },
  {
   "cell_type": "code",
   "execution_count": 11,
   "metadata": {},
   "outputs": [
    {
     "data": {
      "text/plain": [
       "2015-01-07    0.725642\n",
       "2015-01-14    0.369301\n",
       "2015-01-21    0.166723\n",
       "2015-01-28    0.678941\n",
       "2015-02-04    0.375279\n",
       "2015-02-11    0.308436\n",
       "2015-02-18    0.087033\n",
       "2015-02-25    0.506525\n",
       "2015-03-04    0.734331\n",
       "2015-03-11    0.657327\n",
       "2015-03-18    0.950491\n",
       "2015-03-25    0.978468\n",
       "2015-04-01    0.968180\n",
       "2015-04-08    0.838955\n",
       "2015-04-15    0.128309\n",
       "2015-04-22    0.277615\n",
       "2015-04-29    0.526830\n",
       "2015-05-06    0.511791\n",
       "2015-05-13    0.083145\n",
       "2015-05-20    0.250642\n",
       "2015-05-27    0.790590\n",
       "2015-06-03    0.571177\n",
       "2015-06-10    0.891927\n",
       "2015-06-17    0.370694\n",
       "2015-06-24    0.763000\n",
       "2015-07-01    0.417139\n",
       "2015-07-08    0.849186\n",
       "2015-07-15    0.796975\n",
       "2015-07-22    0.591929\n",
       "2015-07-29    0.099379\n",
       "2015-08-05    0.966504\n",
       "2015-08-12    0.273487\n",
       "2015-08-19    0.771869\n",
       "2015-08-26    0.145631\n",
       "2015-09-02    0.092526\n",
       "2015-09-09    0.280777\n",
       "2015-09-16    0.134984\n",
       "2015-09-23    0.132201\n",
       "2015-09-30    0.284488\n",
       "2015-10-07    0.225461\n",
       "2015-10-14    0.263137\n",
       "2015-10-21    0.021693\n",
       "2015-10-28    0.344077\n",
       "2015-11-04    0.554821\n",
       "2015-11-11    0.517652\n",
       "2015-11-18    0.957710\n",
       "2015-11-25    0.974311\n",
       "2015-12-02    0.097229\n",
       "2015-12-09    0.169395\n",
       "2015-12-16    0.701713\n",
       "2015-12-23    0.950791\n",
       "2015-12-30    0.334365\n",
       "dtype: float64"
      ]
     },
     "execution_count": 11,
     "metadata": {},
     "output_type": "execute_result"
    }
   ],
   "source": [
    "s[s.index.weekday==2]"
   ]
  },
  {
   "cell_type": "markdown",
   "metadata": {},
   "source": [
    "> sum() ile bu değerlerin toplamını buluruz"
   ]
  },
  {
   "cell_type": "code",
   "execution_count": 12,
   "metadata": {},
   "outputs": [
    {
     "data": {
      "text/plain": [
       "25.46077861008363"
      ]
     },
     "execution_count": 12,
     "metadata": {},
     "output_type": "execute_result"
    }
   ],
   "source": [
    "s[s.index.weekday==2].sum()"
   ]
  },
  {
   "cell_type": "markdown",
   "metadata": {},
   "source": [
    "#### __2.__ Her takvim ayı için değerlerin ortalamasını bulalım:\n",
    "> __resample()__ fonksiyonu ile yapabilriz: Bu fonksiyon ile biz s serisini günlük yaptık, aylığa çevir diyoruz. Aynı şekilde aylıkdan yıllığa çevirebiliridik. \n",
    "<br> mean() ile ortalama alırız"
   ]
  },
  {
   "cell_type": "code",
   "execution_count": 16,
   "metadata": {},
   "outputs": [
    {
     "data": {
      "text/plain": [
       "2015-01-31    0.495580\n",
       "2015-02-28    0.446792\n",
       "2015-03-31    0.549632\n",
       "2015-04-30    0.470555\n",
       "2015-05-31    0.487712\n",
       "2015-06-30    0.467376\n",
       "2015-07-31    0.487389\n",
       "2015-08-31    0.502079\n",
       "2015-09-30    0.276541\n",
       "2015-10-31    0.464045\n",
       "2015-11-30    0.547567\n",
       "2015-12-31    0.616573\n",
       "Freq: M, dtype: float64"
      ]
     },
     "execution_count": 16,
     "metadata": {},
     "output_type": "execute_result"
    }
   ],
   "source": [
    "s.resample(\"M\").mean()\n"
   ]
  },
  {
   "cell_type": "markdown",
   "metadata": {},
   "source": [
    "#### __3.__ Dört ardışık takvim ayının her grubu için en yüksek değeri bulalım\n",
    ">Yani aylar 4'erli olarak gruplayacağız ve en yüksek değeri çekicez.\n",
    "<br> _TimeGrouper(\"4M\")_ ile 4 aylık gruplarız.\n",
    "<br> _s.groupby(pd.TimeGrouper(\"4M\")_ ile s serisini 4 aylık gruplamış oluruz\n",
    "<br> idxmax() ile en büyük değeri döndürürüz"
   ]
  },
  {
   "cell_type": "code",
   "execution_count": 21,
   "metadata": {},
   "outputs": [
    {
     "name": "stderr",
     "output_type": "stream",
     "text": [
      "D:\\Anaconda\\lib\\site-packages\\ipykernel_launcher.py:1: FutureWarning: pd.TimeGrouper is deprecated and will be removed; Please use pd.Grouper(freq=...)\n",
      "  \"\"\"Entry point for launching an IPython kernel.\n"
     ]
    },
    {
     "data": {
      "text/plain": [
       "2015-01-05    0.997762\n",
       "2015-02-12    0.990995\n",
       "2015-07-06    0.997639\n",
       "2015-12-18    0.999616\n",
       "dtype: float64"
      ]
     },
     "execution_count": 21,
     "metadata": {},
     "output_type": "execute_result"
    }
   ],
   "source": [
    "s[s.groupby(pd.TimeGrouper(\"4M\")).idxmax()]"
   ]
  },
  {
   "cell_type": "code",
   "execution_count": 22,
   "metadata": {},
   "outputs": [
    {
     "name": "stderr",
     "output_type": "stream",
     "text": [
      "D:\\Anaconda\\lib\\site-packages\\ipykernel_launcher.py:1: FutureWarning: pd.TimeGrouper is deprecated and will be removed; Please use pd.Grouper(freq=...)\n",
      "  \"\"\"Entry point for launching an IPython kernel.\n"
     ]
    },
    {
     "data": {
      "text/plain": [
       "2015-01-12    0.004481\n",
       "2015-04-17    0.004029\n",
       "2015-09-17    0.018650\n",
       "2015-10-19    0.012816\n",
       "dtype: float64"
      ]
     },
     "execution_count": 22,
     "metadata": {},
     "output_type": "execute_result"
    }
   ],
   "source": [
    "s[s.groupby(pd.TimeGrouper(\"4M\")).idxmin()]"
   ]
  },
  {
   "cell_type": "markdown",
   "metadata": {},
   "source": [
    "#### __4.__ Her ayın üçüncü perşembesinden oluşan bir DatetimeIndex oluşturalım(2015 ve 2016 yılları için)"
   ]
  },
  {
   "cell_type": "code",
   "execution_count": 23,
   "metadata": {},
   "outputs": [
    {
     "data": {
      "text/plain": [
       "DatetimeIndex(['2015-01-15', '2015-02-19', '2015-03-19', '2015-04-16',\n",
       "               '2015-05-21', '2015-06-18', '2015-07-16', '2015-08-20',\n",
       "               '2015-09-17', '2015-10-15', '2015-11-19', '2015-12-17'],\n",
       "              dtype='datetime64[ns]', freq='WOM-3THU')"
      ]
     },
     "execution_count": 23,
     "metadata": {},
     "output_type": "execute_result"
    }
   ],
   "source": [
    "pd.date_range(start=\"2015-01-01\",end=\"2015-12-31\", freq=\"WOM-3THU\")"
   ]
  },
  {
   "cell_type": "code",
   "execution_count": null,
   "metadata": {},
   "outputs": [],
   "source": []
  }
 ],
 "metadata": {
  "kernelspec": {
   "display_name": "Python 3",
   "language": "python",
   "name": "python3"
  },
  "language_info": {
   "codemirror_mode": {
    "name": "ipython",
    "version": 3
   },
   "file_extension": ".py",
   "mimetype": "text/x-python",
   "name": "python",
   "nbconvert_exporter": "python",
   "pygments_lexer": "ipython3",
   "version": "3.7.3"
  }
 },
 "nbformat": 4,
 "nbformat_minor": 2
}
